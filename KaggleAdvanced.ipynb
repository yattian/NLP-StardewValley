{
 "cells": [
  {
   "cell_type": "code",
   "execution_count": 1,
   "metadata": {},
   "outputs": [],
   "source": [
    "import pandas as pd\n",
    "import re\n",
    "import nltk\n",
    "import numpy as np"
   ]
  },
  {
   "cell_type": "code",
   "execution_count": 2,
   "metadata": {},
   "outputs": [],
   "source": [
    "trainDataClean = pd.read_csv(\"trainDataclean.csv\")"
   ]
  },
  {
   "cell_type": "code",
   "execution_count": 3,
   "metadata": {},
   "outputs": [],
   "source": [
    "import sklearn\n",
    "from sklearn.feature_extraction.text import CountVectorizer, TfidfVectorizer\n",
    "from sklearn.naive_bayes import MultinomialNB, GaussianNB"
   ]
  },
  {
   "cell_type": "code",
   "execution_count": 4,
   "metadata": {},
   "outputs": [],
   "source": [
    "vectorizer = CountVectorizer()"
   ]
  },
  {
   "cell_type": "code",
   "execution_count": 5,
   "metadata": {},
   "outputs": [],
   "source": [
    "trainDataClean.dropna(subset = ['text'], inplace = True)\n",
    "X = vectorizer.fit_transform(trainDataClean.text)"
   ]
  },
  {
   "cell_type": "code",
   "execution_count": 6,
   "metadata": {},
   "outputs": [],
   "source": [
    "nb = MultinomialNB()"
   ]
  },
  {
   "cell_type": "code",
   "execution_count": 14,
   "metadata": {},
   "outputs": [
    {
     "data": {
      "text/plain": [
       "MultinomialNB()"
      ]
     },
     "execution_count": 14,
     "metadata": {},
     "output_type": "execute_result"
    }
   ],
   "source": [
    "nb.fit(X, trainDataClean.sentiment)"
   ]
  },
  {
   "cell_type": "code",
   "execution_count": 7,
   "metadata": {},
   "outputs": [],
   "source": [
    "testData = pd.read_csv(\"redditSVuncleanCompound.csv\")"
   ]
  },
  {
   "cell_type": "code",
   "execution_count": 8,
   "metadata": {},
   "outputs": [],
   "source": [
    "testData.Reply = testData.Reply.apply(lambda x: re.sub(r'[^\\w\\s]', '', x))"
   ]
  },
  {
   "cell_type": "code",
   "execution_count": 9,
   "metadata": {},
   "outputs": [],
   "source": [
    "from nltk.corpus import stopwords\n",
    "stopwords = stopwords.words(\"english\")\n",
    "testData.Reply = testData.Reply.apply(lambda x: ' '.join([word for word in nltk.word_tokenize(x) if word.lower() not in stopwords]))"
   ]
  },
  {
   "cell_type": "code",
   "execution_count": 10,
   "metadata": {},
   "outputs": [],
   "source": [
    "testData.Reply = testData.Reply.apply(lambda x: re.sub(r'\\(?http\\S+', '', x))"
   ]
  },
  {
   "cell_type": "code",
   "execution_count": 11,
   "metadata": {},
   "outputs": [],
   "source": [
    "lemmatizer = nltk.WordNetLemmatizer()\n",
    "testData.Reply = testData.Reply.apply(lambda x: ' '.join([lemmatizer.lemmatize(word) for word in nltk.word_tokenize(x)]))"
   ]
  },
  {
   "cell_type": "code",
   "execution_count": 12,
   "metadata": {},
   "outputs": [],
   "source": [
    "testData.dropna(subset = ['Reply'], inplace = True)\n",
    "X_test = vectorizer.transform(testData.Reply)"
   ]
  },
  {
   "cell_type": "code",
   "execution_count": 26,
   "metadata": {},
   "outputs": [
    {
     "data": {
      "text/plain": [
       "'positive'"
      ]
     },
     "execution_count": 26,
     "metadata": {},
     "output_type": "execute_result"
    }
   ],
   "source": [
    "predictions = testData.ID, nb.predict(X_test)\n",
    "predictions[1][2]"
   ]
  },
  {
   "cell_type": "code",
   "execution_count": 18,
   "metadata": {},
   "outputs": [],
   "source": [
    "for i in range(len(testData)):\n",
    "    testData['sentiment'] = \"null\""
   ]
  },
  {
   "cell_type": "code",
   "execution_count": 27,
   "metadata": {},
   "outputs": [],
   "source": [
    "for i in range(len(testData)):\n",
    "    testData['sentiment'] = predictions[1][i]"
   ]
  },
  {
   "cell_type": "code",
   "execution_count": 28,
   "metadata": {},
   "outputs": [
    {
     "data": {
      "text/html": [
       "<div>\n",
       "<style scoped>\n",
       "    .dataframe tbody tr th:only-of-type {\n",
       "        vertical-align: middle;\n",
       "    }\n",
       "\n",
       "    .dataframe tbody tr th {\n",
       "        vertical-align: top;\n",
       "    }\n",
       "\n",
       "    .dataframe thead th {\n",
       "        text-align: right;\n",
       "    }\n",
       "</style>\n",
       "<table border=\"1\" class=\"dataframe\">\n",
       "  <thead>\n",
       "    <tr style=\"text-align: right;\">\n",
       "      <th></th>\n",
       "      <th>ID</th>\n",
       "      <th>Unnamed: 0</th>\n",
       "      <th>Reply</th>\n",
       "      <th>Upvote</th>\n",
       "      <th>Time</th>\n",
       "      <th>Key</th>\n",
       "      <th>neg</th>\n",
       "      <th>neu</th>\n",
       "      <th>pos</th>\n",
       "      <th>compound</th>\n",
       "      <th>sentiment</th>\n",
       "    </tr>\n",
       "  </thead>\n",
       "  <tbody>\n",
       "    <tr>\n",
       "      <th>0</th>\n",
       "      <td>0</td>\n",
       "      <td>0</td>\n",
       "      <td>isnt mod section know want point folk dont kno...</td>\n",
       "      <td>31</td>\n",
       "      <td>24/05/2020 14:45</td>\n",
       "      <td>0</td>\n",
       "      <td>0.040</td>\n",
       "      <td>0.816</td>\n",
       "      <td>0.144</td>\n",
       "      <td>0.8717</td>\n",
       "      <td>neutral</td>\n",
       "    </tr>\n",
       "    <tr>\n",
       "      <th>1</th>\n",
       "      <td>1</td>\n",
       "      <td>1</td>\n",
       "      <td>divorce ex spouse dislike hate nursery room</td>\n",
       "      <td>29</td>\n",
       "      <td>8/07/2020 4:08</td>\n",
       "      <td>0</td>\n",
       "      <td>0.326</td>\n",
       "      <td>0.674</td>\n",
       "      <td>0.000</td>\n",
       "      <td>-0.7430</td>\n",
       "      <td>neutral</td>\n",
       "    </tr>\n",
       "    <tr>\n",
       "      <th>2</th>\n",
       "      <td>2</td>\n",
       "      <td>2</td>\n",
       "      <td>worth keep fruit vegetable last season sell</td>\n",
       "      <td>24</td>\n",
       "      <td>23/05/2020 18:03</td>\n",
       "      <td>0</td>\n",
       "      <td>0.000</td>\n",
       "      <td>0.905</td>\n",
       "      <td>0.095</td>\n",
       "      <td>0.2263</td>\n",
       "      <td>neutral</td>\n",
       "    </tr>\n",
       "    <tr>\n",
       "      <th>3</th>\n",
       "      <td>3</td>\n",
       "      <td>3</td>\n",
       "      <td>question tip poor soul scrolling wheat worth c...</td>\n",
       "      <td>20</td>\n",
       "      <td>3/06/2020 16:44</td>\n",
       "      <td>0</td>\n",
       "      <td>0.047</td>\n",
       "      <td>0.847</td>\n",
       "      <td>0.107</td>\n",
       "      <td>0.6486</td>\n",
       "      <td>neutral</td>\n",
       "    </tr>\n",
       "    <tr>\n",
       "      <th>4</th>\n",
       "      <td>4</td>\n",
       "      <td>4</td>\n",
       "      <td>benefit gold star vegetable sell something fut...</td>\n",
       "      <td>17</td>\n",
       "      <td>23/05/2020 18:06</td>\n",
       "      <td>0</td>\n",
       "      <td>0.000</td>\n",
       "      <td>0.873</td>\n",
       "      <td>0.127</td>\n",
       "      <td>0.5204</td>\n",
       "      <td>neutral</td>\n",
       "    </tr>\n",
       "    <tr>\n",
       "      <th>...</th>\n",
       "      <td>...</td>\n",
       "      <td>...</td>\n",
       "      <td>...</td>\n",
       "      <td>...</td>\n",
       "      <td>...</td>\n",
       "      <td>...</td>\n",
       "      <td>...</td>\n",
       "      <td>...</td>\n",
       "      <td>...</td>\n",
       "      <td>...</td>\n",
       "      <td>...</td>\n",
       "    </tr>\n",
       "    <tr>\n",
       "      <th>7493</th>\n",
       "      <td>7510</td>\n",
       "      <td>9</td>\n",
       "      <td>Shes weird shes wrong</td>\n",
       "      <td>5</td>\n",
       "      <td>8/09/2020 15:31</td>\n",
       "      <td>497</td>\n",
       "      <td>0.156</td>\n",
       "      <td>0.461</td>\n",
       "      <td>0.384</td>\n",
       "      <td>0.4554</td>\n",
       "      <td>neutral</td>\n",
       "    </tr>\n",
       "    <tr>\n",
       "      <th>7494</th>\n",
       "      <td>7511</td>\n",
       "      <td>0</td>\n",
       "      <td>dont think belongs sub tbh</td>\n",
       "      <td>1</td>\n",
       "      <td>9/09/2020 0:12</td>\n",
       "      <td>498</td>\n",
       "      <td>0.000</td>\n",
       "      <td>1.000</td>\n",
       "      <td>0.000</td>\n",
       "      <td>0.0000</td>\n",
       "      <td>neutral</td>\n",
       "    </tr>\n",
       "    <tr>\n",
       "      <th>7495</th>\n",
       "      <td>7512</td>\n",
       "      <td>0</td>\n",
       "      <td>Hell tha muthafuckin YES Slay si Edit Apologie...</td>\n",
       "      <td>5</td>\n",
       "      <td>8/09/2020 13:33</td>\n",
       "      <td>499</td>\n",
       "      <td>0.158</td>\n",
       "      <td>0.584</td>\n",
       "      <td>0.258</td>\n",
       "      <td>0.4406</td>\n",
       "      <td>neutral</td>\n",
       "    </tr>\n",
       "    <tr>\n",
       "      <th>7496</th>\n",
       "      <td>7513</td>\n",
       "      <td>1</td>\n",
       "      <td>love</td>\n",
       "      <td>3</td>\n",
       "      <td>8/09/2020 12:58</td>\n",
       "      <td>499</td>\n",
       "      <td>0.000</td>\n",
       "      <td>0.308</td>\n",
       "      <td>0.692</td>\n",
       "      <td>0.6696</td>\n",
       "      <td>neutral</td>\n",
       "    </tr>\n",
       "    <tr>\n",
       "      <th>7497</th>\n",
       "      <td>7514</td>\n",
       "      <td>2</td>\n",
       "      <td>fear important Slay</td>\n",
       "      <td>3</td>\n",
       "      <td>8/09/2020 14:27</td>\n",
       "      <td>499</td>\n",
       "      <td>0.000</td>\n",
       "      <td>0.576</td>\n",
       "      <td>0.424</td>\n",
       "      <td>0.5305</td>\n",
       "      <td>neutral</td>\n",
       "    </tr>\n",
       "  </tbody>\n",
       "</table>\n",
       "<p>7498 rows × 11 columns</p>\n",
       "</div>"
      ],
      "text/plain": [
       "        ID  Unnamed: 0                                              Reply  \\\n",
       "0        0           0  isnt mod section know want point folk dont kno...   \n",
       "1        1           1        divorce ex spouse dislike hate nursery room   \n",
       "2        2           2        worth keep fruit vegetable last season sell   \n",
       "3        3           3  question tip poor soul scrolling wheat worth c...   \n",
       "4        4           4  benefit gold star vegetable sell something fut...   \n",
       "...    ...         ...                                                ...   \n",
       "7493  7510           9                              Shes weird shes wrong   \n",
       "7494  7511           0                         dont think belongs sub tbh   \n",
       "7495  7512           0  Hell tha muthafuckin YES Slay si Edit Apologie...   \n",
       "7496  7513           1                                               love   \n",
       "7497  7514           2                                fear important Slay   \n",
       "\n",
       "      Upvote              Time  Key    neg    neu    pos  compound sentiment  \n",
       "0         31  24/05/2020 14:45    0  0.040  0.816  0.144    0.8717   neutral  \n",
       "1         29    8/07/2020 4:08    0  0.326  0.674  0.000   -0.7430   neutral  \n",
       "2         24  23/05/2020 18:03    0  0.000  0.905  0.095    0.2263   neutral  \n",
       "3         20   3/06/2020 16:44    0  0.047  0.847  0.107    0.6486   neutral  \n",
       "4         17  23/05/2020 18:06    0  0.000  0.873  0.127    0.5204   neutral  \n",
       "...      ...               ...  ...    ...    ...    ...       ...       ...  \n",
       "7493       5   8/09/2020 15:31  497  0.156  0.461  0.384    0.4554   neutral  \n",
       "7494       1    9/09/2020 0:12  498  0.000  1.000  0.000    0.0000   neutral  \n",
       "7495       5   8/09/2020 13:33  499  0.158  0.584  0.258    0.4406   neutral  \n",
       "7496       3   8/09/2020 12:58  499  0.000  0.308  0.692    0.6696   neutral  \n",
       "7497       3   8/09/2020 14:27  499  0.000  0.576  0.424    0.5305   neutral  \n",
       "\n",
       "[7498 rows x 11 columns]"
      ]
     },
     "execution_count": 28,
     "metadata": {},
     "output_type": "execute_result"
    }
   ],
   "source": [
    "testData"
   ]
  },
  {
   "cell_type": "code",
   "execution_count": 21,
   "metadata": {},
   "outputs": [],
   "source": [
    "testData.to_csv(r'C:\\Users\\yatai\\OneDrive\\Desktop\\phase2msa\\testDataCompoundAdvanced.csv')"
   ]
  }
 ],
 "metadata": {
  "kernelspec": {
   "display_name": "Python 3",
   "language": "python",
   "name": "python3"
  },
  "language_info": {
   "codemirror_mode": {
    "name": "ipython",
    "version": 3
   },
   "file_extension": ".py",
   "mimetype": "text/x-python",
   "name": "python",
   "nbconvert_exporter": "python",
   "pygments_lexer": "ipython3",
   "version": "3.8.5"
  }
 },
 "nbformat": 4,
 "nbformat_minor": 4
}
